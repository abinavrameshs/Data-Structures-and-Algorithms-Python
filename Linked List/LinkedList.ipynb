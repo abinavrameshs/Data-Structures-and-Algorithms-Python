{
 "cells": [
  {
   "cell_type": "code",
   "execution_count": 54,
   "metadata": {},
   "outputs": [],
   "source": [
    "class Node : \n",
    "    \"\"\"\n",
    "    For Node, we need value, next\n",
    "    \"\"\"\n",
    "    def __init__(self, value) :\n",
    "        self.value = value \n",
    "        self.next = None\n",
    "\n",
    "class LinkedList : \n",
    "    \"\"\"\n",
    "    For LL, we need\n",
    "    Node, head, tail, length (to keep track of length)\n",
    "    \"\"\"\n",
    "    def __init__(self, value):\n",
    "        new_node = Node(value)\n",
    "        self.head = new_node \n",
    "        self.tail = new_node \n",
    "        self.length = 1\n",
    "         \n",
    "\n",
    "    def append(self , value) : \n",
    "        new_node = Node(value)\n",
    "        if self.length>=1 : \n",
    "            # When there are already nodes in the LL\n",
    "            self.tail.next = new_node \n",
    "            self.tail = new_node \n",
    "        else : \n",
    "            # When there are no nodes to begin with\n",
    "            self.head = new_node \n",
    "            self.tail = new_node\n",
    "        self.length+=1\n",
    "        return True \n",
    "\n",
    "    def pop(self) : \n",
    "        # edge case 1 : 1 node \n",
    "        if self.length ==1 : \n",
    "            node = self.head \n",
    "            self.head = None \n",
    "            self.tail = None \n",
    "            self.length-=1\n",
    "            return node\n",
    "        # edge case 2 : 0 notes\n",
    "        elif self.length ==0 :\n",
    "            node = Node(None)\n",
    "            self.head=None \n",
    "            self.tail = None \n",
    "            return None  \n",
    "        # normal case\n",
    "        else : \n",
    "            # Find the pointer that points to the last element of the LL\n",
    "\n",
    "            temp = self.head \n",
    "            while temp.next != self.tail : \n",
    "                temp = temp.next \n",
    "            \n",
    "            node = self.tail\n",
    "            self.tail = temp \n",
    "            self.tail.next = None \n",
    "            self.length-=1\n",
    "            return node \n",
    "            \n",
    "\n",
    "    def prepend(self,value) : \n",
    "        \"\"\"Add a Node to the beginning of the LL\"\"\"\n",
    "        # Edge case 1 : No elements\n",
    "        new_node = Node(value)\n",
    "        if self.length==0 : \n",
    "            self.head = new_node \n",
    "            self.tail = new_node \n",
    "            \n",
    "        else : \n",
    "            prev_head = self.head \n",
    "            self.head = new_node \n",
    "            self.head.next = prev_head\n",
    "        self.length+=1\n",
    "        return True \n",
    "\n",
    "    def pop_first(self) : \n",
    "        \"\"\"Pop the first item of the LL\"\"\"\n",
    "        # Edge case 1 : if there are no elements, then return None\n",
    "        if self.length ==0 : \n",
    "            self.head = None \n",
    "            self.tail = None \n",
    "            return None\n",
    "        # If there is one element, return the element\n",
    "        elif self.length ==1 : \n",
    "            node = self.head \n",
    "            self.head = None \n",
    "            self.tail = None \n",
    "            self.length -=1\n",
    "            return node \n",
    "        # If there are multiple elements, return the first Node\n",
    "        else : \n",
    "            second_node = self.head.next \n",
    "            first_element = self.head \n",
    "            \n",
    "            first_element.next = None \n",
    "            self.head = second_node \n",
    "            return first_element \n",
    "\n",
    "    def get(self, index) :\n",
    "\n",
    "        # Test if the index is valid \n",
    "        if index<0 or index>=self.length : \n",
    "            #raise IndexError\n",
    "            return None\n",
    "        else : \n",
    "            temp = self.head \n",
    "            i = 0\n",
    "            while i <index : \n",
    "                i+=1 \n",
    "                temp = temp.next \n",
    "            return temp \n",
    "\n",
    "    def set_value(self, index, value) : \n",
    "\n",
    "        temp = self.get(index)\n",
    "        if temp : \n",
    "            temp.value = value \n",
    "        else : \n",
    "            print(f\"Invalid  index {index}, the value {value} cant be set\") \n",
    "\n",
    "      \n",
    "                \n",
    "\n",
    "    def insert(self, index ,value) : \n",
    "        new_node = Node(value=value )\n",
    "        if index <0 or index > self.length: \n",
    "            print(\"Input proper index\")\n",
    "            return False\n",
    "        elif index ==0 : \n",
    "            return self.prepend(value)\n",
    "        elif index == self.length : \n",
    "            return self.append(value)\n",
    "        else : \n",
    "            node_at_index=self.get(index)\n",
    "            node_at_index_minus_1 = self.get(index - 1)\n",
    "\n",
    "            node_at_index_minus_1.next = new_node \n",
    "            new_node.next = node_at_index\n",
    "            return True\n",
    "\n",
    "\n",
    "\n",
    "    def print_list(self) : \n",
    "        temp = self.head \n",
    "        \n",
    "        while temp is not None : \n",
    "            print(temp.value)\n",
    "            temp = temp.next\n",
    "\n",
    "    \n",
    "    def remove(self,index):\n",
    "\n",
    "        # Traverse the LL to find node with index `index`\n",
    "        # Find whats the element previous to the index element\n",
    "        # Point previous.next = index element.next\n",
    "        # return the index node\n",
    "\n",
    "        # corner case : index is invalid -> return None\n",
    "        if index >= self.length or index <0 : \n",
    "            print(\"Invalid index entered\")\n",
    "            return None\n",
    "        # corner case : remove only when there is one element\n",
    "        elif self.length == 1 : \n",
    "            node_removed = self.head\n",
    "            self.length -=1 \n",
    "            return node_removed \n",
    "        # corner case : remove when there are 0 elements \n",
    "        elif self.length == 0 : \n",
    "            print(\"No elements to remove\")\n",
    "            return None \n",
    "        # corner case : remove head \n",
    "        elif index == 0 : \n",
    "            self.length -=1 \n",
    "            return self.pop_first()\n",
    "\n",
    "        # corner case : remove tail \n",
    "        elif index == self.length -1 : \n",
    "            self.length -=1 \n",
    "            return self.pop()\n",
    "        # Normal case : \n",
    "        else : \n",
    "            node_index = self.get(index)\n",
    "            node_index_prev = self.get(index - 1)\n",
    "            node_index_prev.next = node_index.next \n",
    "            node_index.next = None \n",
    "            self.length -=1 \n",
    "            return node_index \n",
    "        \n",
    "    \n",
    "    def reverse(self) : \n",
    "        # first reverse head and tail\n",
    "\n",
    "        temp = self.head \n",
    "        self.head = self.tail \n",
    "        self.tail = temp \n",
    "\n",
    "        before = None \n",
    "        after = temp.next \n",
    "        print(f\"self.length = {self.length}\")\n",
    "        for _ in range(self.length + 1) : \n",
    "            print(f\"Beginning\\nBefore : { before.value if before else None}, Temp : {temp.value if temp else None}, After : {after.value if after else None}\")\n",
    "            after = temp.next \n",
    "            temp.next = before \n",
    "            before = temp \n",
    "            temp = after \n",
    "            print(f\"End\\nBefore : { before.value if before else None}, Temp : {temp.value if temp else None}, After : {after.value if after else None}\")\n",
    "        \n",
    "        print(f\"self.length = {self.length}\")\n",
    "        print(f\"self.head = {self.head}\")\n",
    "        print(f\"self.tail = {self.tail}\")\n",
    "\n",
    "\n",
    "\n",
    "\n",
    "\n",
    "            \n",
    "        \n",
    "    \n",
    "\n"
   ]
  },
  {
   "cell_type": "code",
   "execution_count": 44,
   "metadata": {},
   "outputs": [
    {
     "name": "stdout",
     "output_type": "stream",
     "text": [
      "-------- printing-----------\n",
      "444\n",
      "255\n",
      "4\n",
      "23\n",
      "25\n",
      "15\n"
     ]
    }
   ],
   "source": [
    "my_LL = LinkedList(4)\n",
    "my_LL.append(23)\n",
    "my_LL.append(25)\n",
    "my_LL.prepend(255)\n",
    "my_LL.append(15)\n",
    "my_LL.prepend(444)\n",
    "# display(my_LL.head.value)\n",
    "# display(my_LL.tail.value)\n",
    "print(\"-------- printing-----------\")\n",
    "my_LL.print_list()"
   ]
  },
  {
   "cell_type": "code",
   "execution_count": 55,
   "metadata": {},
   "outputs": [
    {
     "name": "stdout",
     "output_type": "stream",
     "text": [
      "-------- printing-----------\n",
      "444\n",
      "255\n",
      "4\n",
      "23\n",
      "25\n",
      "15\n",
      "-------- printing-----------\n",
      "444\n",
      "255\n",
      "4\n",
      "23242\n",
      "25\n",
      "15\n",
      "-------- printing-----------\n",
      "444\n",
      "255\n",
      "4\n",
      "45\n",
      "23242\n",
      "25\n",
      "15\n",
      "Input proper index\n",
      "-------- printing-----------\n",
      "444\n",
      "255\n",
      "4\n",
      "45\n",
      "23242\n",
      "25\n",
      "15\n",
      "-------- printing-----------\n",
      "255\n",
      "4\n",
      "45\n",
      "23242\n",
      "25\n",
      "15\n",
      "self.length = 5\n",
      "Beginning\n",
      "Before : None, Temp : 255, After : 4\n",
      "End\n",
      "Before : 255, Temp : 4, After : 4\n",
      "Beginning\n",
      "Before : 255, Temp : 4, After : 4\n",
      "End\n",
      "Before : 4, Temp : 45, After : 45\n",
      "Beginning\n",
      "Before : 4, Temp : 45, After : 45\n",
      "End\n",
      "Before : 45, Temp : 23242, After : 23242\n",
      "Beginning\n",
      "Before : 45, Temp : 23242, After : 23242\n",
      "End\n",
      "Before : 23242, Temp : 25, After : 25\n",
      "Beginning\n",
      "Before : 23242, Temp : 25, After : 25\n",
      "End\n",
      "Before : 25, Temp : 15, After : 15\n",
      "Beginning\n",
      "Before : 25, Temp : 15, After : 15\n",
      "End\n",
      "Before : 15, Temp : None, After : None\n",
      "self.length = 5\n",
      "self.head = <__main__.Node object at 0x7f6203c75570>\n",
      "self.tail = <__main__.Node object at 0x7f6203c754e0>\n",
      "-------- printing-----------\n",
      "15\n",
      "25\n",
      "23242\n",
      "45\n",
      "4\n",
      "255\n"
     ]
    }
   ],
   "source": [
    "my_LL = LinkedList(4)\n",
    "my_LL.append(23)\n",
    "my_LL.append(25)\n",
    "my_LL.prepend(255)\n",
    "my_LL.append(15)\n",
    "my_LL.prepend(444)\n",
    "# display(my_LL.head.value)\n",
    "# display(my_LL.tail.value)\n",
    "print(\"-------- printing-----------\")\n",
    "my_LL.print_list()\n",
    "\n",
    "my_LL.set_value(3,23242)\n",
    "print(\"-------- printing-----------\")\n",
    "my_LL.print_list()\n",
    "my_LL.insert(3,45)\n",
    "print(\"-------- printing-----------\")\n",
    "my_LL.print_list()\n",
    "my_LL.insert(99,45)\n",
    "print(\"-------- printing-----------\")\n",
    "my_LL.print_list()\n",
    "a = my_LL.remove(0)\n",
    "print(\"-------- printing-----------\")\n",
    "my_LL.print_list()\n",
    "my_LL.reverse()\n",
    "\n",
    "print(\"-------- printing-----------\")\n",
    "my_LL.print_list()"
   ]
  },
  {
   "cell_type": "code",
   "execution_count": 38,
   "metadata": {},
   "outputs": [],
   "source": [
    "my_LL.reverse()"
   ]
  },
  {
   "cell_type": "code",
   "execution_count": 39,
   "metadata": {},
   "outputs": [
    {
     "name": "stdout",
     "output_type": "stream",
     "text": [
      "15\n"
     ]
    }
   ],
   "source": [
    "my_LL.print_list()"
   ]
  },
  {
   "cell_type": "code",
   "execution_count": 23,
   "metadata": {},
   "outputs": [
    {
     "data": {
      "text/plain": [
       "{<__main__.Node at 0x7f6203bfa680>: <__main__.Node at 0x7f6203bfacb0>,\n",
       " <__main__.Node at 0x7f6203bfacb0>: <__main__.Node at 0x7f6203bfad10>,\n",
       " <__main__.Node at 0x7f6203bfad10>: <__main__.Node at 0x7f6203f59690>,\n",
       " <__main__.Node at 0x7f6203f59690>: <__main__.Node at 0x7f6203f595a0>,\n",
       " <__main__.Node at 0x7f6203f595a0>: <__main__.Node at 0x7f6203bfbd00>,\n",
       " <__main__.Node at 0x7f6203bfbd00>: None}"
      ]
     },
     "execution_count": 23,
     "metadata": {},
     "output_type": "execute_result"
    }
   ],
   "source": [
    "my_LL.dict_nodes"
   ]
  },
  {
   "cell_type": "code",
   "execution_count": 48,
   "metadata": {},
   "outputs": [
    {
     "data": {
      "text/plain": [
       "25"
      ]
     },
     "execution_count": 48,
     "metadata": {},
     "output_type": "execute_result"
    }
   ],
   "source": [
    "my_LL.get(3).value"
   ]
  },
  {
   "cell_type": "code",
   "execution_count": 41,
   "metadata": {},
   "outputs": [],
   "source": [
    "popped = my_LL.pop_first()"
   ]
  },
  {
   "cell_type": "code",
   "execution_count": 42,
   "metadata": {},
   "outputs": [
    {
     "data": {
      "text/plain": [
       "255"
      ]
     },
     "execution_count": 42,
     "metadata": {},
     "output_type": "execute_result"
    }
   ],
   "source": [
    "popped.value"
   ]
  },
  {
   "cell_type": "code",
   "execution_count": 36,
   "metadata": {},
   "outputs": [
    {
     "name": "stdout",
     "output_type": "stream",
     "text": [
      "25\n",
      "23\n",
      "4\n",
      "None\n"
     ]
    }
   ],
   "source": [
    "popped = my_LL.pop()\n",
    "print(popped.value)\n",
    "popped1 = my_LL.pop()\n",
    "print(popped1.value)\n",
    "popped2 = my_LL.pop()\n",
    "print(popped2.value)\n",
    "popped3 = my_LL.pop()\n",
    "print(popped3.value)"
   ]
  },
  {
   "cell_type": "code",
   "execution_count": 32,
   "metadata": {},
   "outputs": [
    {
     "data": {
      "text/plain": [
       "25"
      ]
     },
     "execution_count": 32,
     "metadata": {},
     "output_type": "execute_result"
    }
   ],
   "source": [
    "popped.value"
   ]
  },
  {
   "cell_type": "code",
   "execution_count": 33,
   "metadata": {},
   "outputs": [
    {
     "name": "stdout",
     "output_type": "stream",
     "text": [
      "4\n",
      "23\n"
     ]
    }
   ],
   "source": [
    "my_LL.print_list()"
   ]
  },
  {
   "cell_type": "code",
   "execution_count": 34,
   "metadata": {},
   "outputs": [
    {
     "ename": "AttributeError",
     "evalue": "'NoneType' object has no attribute 'pop'",
     "output_type": "error",
     "traceback": [
      "\u001b[0;31m---------------------------------------------------------------------------\u001b[0m",
      "\u001b[0;31mAttributeError\u001b[0m                            Traceback (most recent call last)",
      "Cell \u001b[0;32mIn [34], line 2\u001b[0m\n\u001b[1;32m      1\u001b[0m my_LL1 \u001b[39m=\u001b[39m \u001b[39mNone\u001b[39;00m\n\u001b[0;32m----> 2\u001b[0m my_LL1\u001b[39m.\u001b[39mpop()\n",
      "\u001b[0;31mAttributeError\u001b[0m: 'NoneType' object has no attribute 'pop'"
     ]
    }
   ],
   "source": [
    "my_LL1 = None\n",
    "my_LL1.pop()"
   ]
  },
  {
   "cell_type": "code",
   "execution_count": 4,
   "metadata": {},
   "outputs": [
    {
     "name": "stdout",
     "output_type": "stream",
     "text": [
      "4\n"
     ]
    }
   ],
   "source": [
    "my_LL.print_list()"
   ]
  },
  {
   "cell_type": "code",
   "execution_count": null,
   "metadata": {},
   "outputs": [],
   "source": []
  }
 ],
 "metadata": {
  "kernelspec": {
   "display_name": "Python 3.10.4 64-bit",
   "language": "python",
   "name": "python3"
  },
  "language_info": {
   "codemirror_mode": {
    "name": "ipython",
    "version": 3
   },
   "file_extension": ".py",
   "mimetype": "text/x-python",
   "name": "python",
   "nbconvert_exporter": "python",
   "pygments_lexer": "ipython3",
   "version": "3.10.4"
  },
  "orig_nbformat": 4,
  "vscode": {
   "interpreter": {
    "hash": "3ad933181bd8a04b432d3370b9dc3b0662ad032c4dfaa4e4f1596c548f763858"
   }
  }
 },
 "nbformat": 4,
 "nbformat_minor": 2
}
