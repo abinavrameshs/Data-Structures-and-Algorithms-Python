{
 "cells": [
  {
   "cell_type": "code",
   "execution_count": 1,
   "metadata": {},
   "outputs": [],
   "source": [
    "from typing import Optional\n",
    "class TreeNode : \n",
    "    def __init__(self, val,left = None, right = None) -> None:\n",
    "        self.val = val \n",
    "        self.left = left \n",
    "        self.right = right\n",
    "\n",
    "class BinarySearchTree : \n",
    "    def __init__(self) -> None:\n",
    "        self.root = None \n",
    "    def insert(self, val) -> Optional[bool]: \n",
    "        # 1. Create a new node \n",
    "        new_node = TreeNode(val)\n",
    "        return_flag = False\n",
    "        temp = self.root \n",
    "        # If there are no elements, then new_node becomes root\n",
    "        if self.root is None : \n",
    "            self.root = new_node\n",
    "            return_flag = True\n",
    "            \n",
    "        elif temp.val == new_node.val : \n",
    "            return_flag = False \n",
    "        else : \n",
    "            # Else add to the left if the value is lesser than root, \n",
    "            # Add to the right if the value is greater than root \n",
    "\n",
    "            # if the value if equal, you cannot add \n",
    "            # 2. Traverse from the root and \n",
    "            while True : \n",
    "                if new_node.val < temp.val :\n",
    "                    if not temp.left :\n",
    "                        temp.left = new_node\n",
    "                        return_flag = True \n",
    "                        break \n",
    "                    else :  \n",
    "                        temp = temp.left \n",
    "                else : \n",
    "                    if not temp.right :\n",
    "                        temp.right = new_node\n",
    "                        return_flag = True \n",
    "                        break \n",
    "                    else :  \n",
    "                        temp = temp.right \n",
    "\n",
    "        return return_flag\n",
    "    \n",
    "    def contains(self, val)  : \n",
    "        \"\"\" \n",
    "        \n",
    "        \"\"\"\n",
    "        temp = self.root \n",
    "        return_value = False \n",
    "        # If there are no nodes \n",
    "        if self.root is None : \n",
    "            print(\"Enter1\")\n",
    "            return_value = False \n",
    "        else : \n",
    "            # Search the tree\n",
    "            while True :  \n",
    "                print(\"Enter2\")\n",
    "                if val== temp.val :\n",
    "                    print(\"Found the node, returning it \")\n",
    "                    return_value =  True \n",
    "                    break\n",
    "                elif val > temp.val :  \n",
    "                    # Move right \n",
    "                    print(\"Move right \")\n",
    "                    temp = temp.right \n",
    "                    print(f\" temp = {temp.__dict__}\")\n",
    "                    \n",
    "                elif val < temp.val : \n",
    "                    # Move left \n",
    "                    print(\"Move Left \")\n",
    "                    temp = temp.left \n",
    "                    print(f\" temp = {temp.__dict__}\")\n",
    "                if (temp.left is None ) and (temp.right is None) :\n",
    "                    print(\"Breaking because left and right are None\")\n",
    "                    break \n",
    "                \n",
    "        return return_value "
   ]
  },
  {
   "cell_type": "code",
   "execution_count": 2,
   "metadata": {},
   "outputs": [
    {
     "data": {
      "text/plain": [
       "True"
      ]
     },
     "execution_count": 2,
     "metadata": {},
     "output_type": "execute_result"
    }
   ],
   "source": [
    "bst = BinarySearchTree()\n",
    "bst.insert(2)\n",
    "bst.insert(1)\n",
    "bst.insert(3)\n",
    "bst.insert(4)"
   ]
  },
  {
   "cell_type": "code",
   "execution_count": 3,
   "metadata": {},
   "outputs": [
    {
     "data": {
      "text/plain": [
       "{'val': 2,\n",
       " 'left': <__main__.TreeNode at 0x7fa2800dee90>,\n",
       " 'right': <__main__.TreeNode at 0x7fa2800deef0>}"
      ]
     },
     "execution_count": 3,
     "metadata": {},
     "output_type": "execute_result"
    }
   ],
   "source": [
    "bst.root.__dict__"
   ]
  },
  {
   "cell_type": "code",
   "execution_count": 4,
   "metadata": {},
   "outputs": [
    {
     "data": {
      "text/plain": [
       "{'val': 3, 'left': None, 'right': <__main__.TreeNode at 0x7fa2800defe0>}"
      ]
     },
     "execution_count": 4,
     "metadata": {},
     "output_type": "execute_result"
    }
   ],
   "source": [
    "bst.root.right.__dict__"
   ]
  },
  {
   "cell_type": "code",
   "execution_count": 5,
   "metadata": {},
   "outputs": [
    {
     "data": {
      "text/plain": [
       "{'val': 1, 'left': None, 'right': None}"
      ]
     },
     "execution_count": 5,
     "metadata": {},
     "output_type": "execute_result"
    }
   ],
   "source": [
    "bst.root.left.__dict__"
   ]
  },
  {
   "cell_type": "code",
   "execution_count": 6,
   "metadata": {},
   "outputs": [
    {
     "name": "stdout",
     "output_type": "stream",
     "text": [
      "Enter2\n",
      "Move Left \n",
      " temp = {'val': 1, 'left': None, 'right': None}\n",
      "Breaking because left and right are None\n"
     ]
    },
    {
     "data": {
      "text/plain": [
       "False"
      ]
     },
     "execution_count": 6,
     "metadata": {},
     "output_type": "execute_result"
    }
   ],
   "source": [
    "bst.contains(1)"
   ]
  },
  {
   "cell_type": "code",
   "execution_count": 7,
   "metadata": {},
   "outputs": [
    {
     "ename": "NameError",
     "evalue": "name 'a' is not defined",
     "output_type": "error",
     "traceback": [
      "\u001b[0;31m---------------------------------------------------------------------------\u001b[0m",
      "\u001b[0;31mNameError\u001b[0m                                 Traceback (most recent call last)",
      "Cell \u001b[0;32mIn[7], line 1\u001b[0m\n\u001b[0;32m----> 1\u001b[0m a\n",
      "\u001b[0;31mNameError\u001b[0m: name 'a' is not defined"
     ]
    }
   ],
   "source": [
    "a"
   ]
  },
  {
   "cell_type": "code",
   "execution_count": 8,
   "metadata": {},
   "outputs": [
    {
     "ename": "NameError",
     "evalue": "name 'a' is not defined",
     "output_type": "error",
     "traceback": [
      "\u001b[0;31m---------------------------------------------------------------------------\u001b[0m",
      "\u001b[0;31mNameError\u001b[0m                                 Traceback (most recent call last)",
      "Cell \u001b[0;32mIn[8], line 1\u001b[0m\n\u001b[0;32m----> 1\u001b[0m \u001b[39mtype\u001b[39m(a)\n",
      "\u001b[0;31mNameError\u001b[0m: name 'a' is not defined"
     ]
    }
   ],
   "source": [
    "type(a)"
   ]
  },
  {
   "cell_type": "code",
   "execution_count": null,
   "metadata": {},
   "outputs": [],
   "source": []
  }
 ],
 "metadata": {
  "kernelspec": {
   "display_name": "Python 3",
   "language": "python",
   "name": "python3"
  },
  "language_info": {
   "codemirror_mode": {
    "name": "ipython",
    "version": 3
   },
   "file_extension": ".py",
   "mimetype": "text/x-python",
   "name": "python",
   "nbconvert_exporter": "python",
   "pygments_lexer": "ipython3",
   "version": "3.10.4"
  },
  "orig_nbformat": 4
 },
 "nbformat": 4,
 "nbformat_minor": 2
}
