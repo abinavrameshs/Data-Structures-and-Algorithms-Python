{
 "cells": [
  {
   "cell_type": "code",
   "execution_count": 25,
   "metadata": {},
   "outputs": [],
   "source": [
    "from typing import Optional\n",
    "class TreeNode : \n",
    "    def __init__(self, val,left = None, right = None) -> None:\n",
    "        self.val = val \n",
    "        self.left = left \n",
    "        self.right = right\n",
    "\n",
    "class BinarySearchTree : \n",
    "    def __init__(self) -> None:\n",
    "        self.root = None \n",
    "    def insert(self, val) -> Optional[bool]: \n",
    "        # 1. Create a new node \n",
    "        new_node = TreeNode(val)\n",
    "        return_flag = False\n",
    "        temp = self.root \n",
    "        # If there are no elements, then new_node becomes root\n",
    "        if self.root is None : \n",
    "            self.root = new_node\n",
    "            return_flag = True\n",
    "            \n",
    "        elif temp.val == new_node.val : \n",
    "            return_flag = False \n",
    "        else : \n",
    "            # Else add to the left if the value is lesser than root, \n",
    "            # Add to the right if the value is greater than root \n",
    "\n",
    "            # if the value if equal, you cannot add \n",
    "            # 2. Traverse from the root and \n",
    "            while True : \n",
    "                if new_node.val < temp.val :\n",
    "                    if not temp.left :\n",
    "                        temp.left = new_node\n",
    "                        return_flag = True \n",
    "                        break \n",
    "                    else :  \n",
    "                        temp = temp.left \n",
    "                else : \n",
    "                    if not temp.right :\n",
    "                        temp.right = new_node\n",
    "                        return_flag = True \n",
    "                        break \n",
    "                    else :  \n",
    "                        temp = temp.right \n",
    "\n",
    "        return return_flag\n",
    "    \n",
    "    def contains(self, val)  : \n",
    "        \"\"\" \n",
    "        \n",
    "        \"\"\"\n",
    "        temp = self.root \n",
    "        return_value = False \n",
    "        # If there are no nodes \n",
    "        if self.root is None : \n",
    "            print(\"Enter1\")\n",
    "            return_value = False \n",
    "        else : \n",
    "            # Search the tree\n",
    "            while True :  \n",
    "                print(\"Enter2\")\n",
    "                if val== temp.val :\n",
    "                    print(\"Found the node, returning it \")\n",
    "                    return_value =  True \n",
    "                    break\n",
    "                elif val > temp.val :  \n",
    "                    # Move right \n",
    "                    print(\"Move right \")\n",
    "                    temp = temp.right \n",
    "                    print(f\" temp = {temp.__dict__}\")\n",
    "                    \n",
    "                elif val < temp.val : \n",
    "                    # Move left \n",
    "                    print(\"Move Left \")\n",
    "                    temp = temp.left \n",
    "                    print(f\" temp = {temp.__dict__}\")\n",
    "                if (temp.left is None ) and (temp.right is None) :\n",
    "                    print(\"Breaking because left and right are None\")\n",
    "                    break \n",
    "                \n",
    "        return return_value \n",
    "    \n",
    "    def bfs(self): \n",
    "        \"\"\"\n",
    "        Breadth First Search \n",
    "        \"\"\"\n",
    "        from collections import deque\n",
    "        queue = deque()\n",
    "        result = []\n",
    "        current_node = self.root\n",
    "\n",
    "        queue.append(current_node)\n",
    "\n",
    "        while len(queue)>0 : \n",
    "            # Popleft the current_node\n",
    "            current_node = queue.popleft()\n",
    "            # First store the value of current_node in the result \n",
    "            result.append(current_node.val)\n",
    "            # Next, put left and right elements in the queue (append)\n",
    "            if current_node.left is not None : queue.append(current_node.left)\n",
    "            if current_node.right is not None : queue.append(current_node.right)\n",
    "            \n",
    "            print(f\"result = {result}\")\n",
    "            # if len(queue)>0 : \n",
    "            #     current_node = queue.popleft()\n",
    "        \n",
    "        return result\n",
    "    \n",
    "    def dfs_post_order(self): \n",
    "        \"\"\"\n",
    "        Depth First Search : Post Order\n",
    "        We use call stack \n",
    "        \"\"\"\n",
    "        \n",
    "        result = []\n",
    "        \n",
    "        def traverse(current_node): \n",
    "            if current_node.left is not None : \n",
    "                traverse(current_node.left)\n",
    "            if current_node.right is not None : \n",
    "                traverse(current_node.right)\n",
    "            result.append(current_node.val)\n",
    "\n",
    "\n",
    "        traverse(self.root)\n",
    "        \n",
    "        return result\n",
    "            \n",
    "    def dfs_pre_order(self): \n",
    "        \"\"\"\n",
    "        Depth First Search : Pre Order\n",
    "        We use call stack \n",
    "        \"\"\"\n",
    "        \n",
    "        result = []\n",
    "        \n",
    "        def traverse(current_node): \n",
    "            result.append(current_node.val)\n",
    "            if current_node.left is not None : \n",
    "                traverse(current_node.left)\n",
    "            if current_node.right is not None : \n",
    "                traverse(current_node.right)\n",
    "            \n",
    "\n",
    "\n",
    "        traverse(self.root)\n",
    "        \n",
    "        return result\n",
    "    \n",
    "    def dfs_in_order(self): \n",
    "        \"\"\"\n",
    "        Depth First Search : In Order\n",
    "        We use call stack \n",
    "        \"\"\"\n",
    "        \n",
    "        result = []\n",
    "        \n",
    "        def traverse(current_node): \n",
    "            \n",
    "            if current_node.left is not None : \n",
    "                traverse(current_node.left)\n",
    "            result.append(current_node.val)\n",
    "            if current_node.right is not None : \n",
    "                traverse(current_node.right)\n",
    "            \n",
    "\n",
    "\n",
    "        traverse(self.root)\n",
    "        \n",
    "        return result\n",
    "            \n"
   ]
  },
  {
   "cell_type": "code",
   "execution_count": 26,
   "metadata": {},
   "outputs": [
    {
     "data": {
      "text/plain": [
       "True"
      ]
     },
     "execution_count": 26,
     "metadata": {},
     "output_type": "execute_result"
    }
   ],
   "source": [
    "bst = BinarySearchTree()\n",
    "bst.insert(2)\n",
    "bst.insert(1)\n",
    "bst.insert(3)\n",
    "bst.insert(4)"
   ]
  },
  {
   "cell_type": "code",
   "execution_count": 3,
   "metadata": {},
   "outputs": [
    {
     "data": {
      "text/plain": [
       "{'val': 2,\n",
       " 'left': <__main__.TreeNode at 0x7f09880cf610>,\n",
       " 'right': <__main__.TreeNode at 0x7f09880cf640>}"
      ]
     },
     "execution_count": 3,
     "metadata": {},
     "output_type": "execute_result"
    }
   ],
   "source": [
    "bst.root.__dict__"
   ]
  },
  {
   "cell_type": "code",
   "execution_count": 4,
   "metadata": {},
   "outputs": [
    {
     "data": {
      "text/plain": [
       "{'val': 1, 'left': None, 'right': None}"
      ]
     },
     "execution_count": 4,
     "metadata": {},
     "output_type": "execute_result"
    }
   ],
   "source": [
    "bst.root.left.__dict__"
   ]
  },
  {
   "cell_type": "code",
   "execution_count": 10,
   "metadata": {},
   "outputs": [
    {
     "data": {
      "text/plain": [
       "{'val': 3, 'left': None, 'right': <__main__.TreeNode at 0x7f09880cf580>}"
      ]
     },
     "execution_count": 10,
     "metadata": {},
     "output_type": "execute_result"
    }
   ],
   "source": [
    "bst.root.right.__dict__"
   ]
  },
  {
   "cell_type": "code",
   "execution_count": 11,
   "metadata": {},
   "outputs": [
    {
     "data": {
      "text/plain": [
       "{'val': 4, 'left': None, 'right': None}"
      ]
     },
     "execution_count": 11,
     "metadata": {},
     "output_type": "execute_result"
    }
   ],
   "source": [
    "bst.root.right.right.__dict__"
   ]
  },
  {
   "cell_type": "code",
   "execution_count": 6,
   "metadata": {},
   "outputs": [
    {
     "name": "stdout",
     "output_type": "stream",
     "text": [
      "Enter2\n",
      "Move Left \n",
      " temp = {'val': 1, 'left': None, 'right': None}\n",
      "Breaking because left and right are None\n"
     ]
    },
    {
     "data": {
      "text/plain": [
       "False"
      ]
     },
     "execution_count": 6,
     "metadata": {},
     "output_type": "execute_result"
    }
   ],
   "source": [
    "bst.contains(1)"
   ]
  },
  {
   "cell_type": "code",
   "execution_count": 24,
   "metadata": {},
   "outputs": [
    {
     "name": "stdout",
     "output_type": "stream",
     "text": [
      "result = [2]\n",
      "result = [2, 1]\n",
      "result = [2, 1, 3]\n",
      "result = [2, 1, 3, 4]\n"
     ]
    },
    {
     "data": {
      "text/plain": [
       "[2, 1, 3, 4]"
      ]
     },
     "execution_count": 24,
     "metadata": {},
     "output_type": "execute_result"
    }
   ],
   "source": [
    "bst.bfs()"
   ]
  },
  {
   "cell_type": "code",
   "execution_count": 13,
   "metadata": {},
   "outputs": [],
   "source": [
    "from collections import deque \n",
    "a = deque([1,2,3])"
   ]
  },
  {
   "cell_type": "code",
   "execution_count": 14,
   "metadata": {},
   "outputs": [
    {
     "data": {
      "text/plain": [
       "1"
      ]
     },
     "execution_count": 14,
     "metadata": {},
     "output_type": "execute_result"
    }
   ],
   "source": [
    "temp = a.popleft()\n",
    "temp"
   ]
  },
  {
   "cell_type": "code",
   "execution_count": 15,
   "metadata": {},
   "outputs": [
    {
     "data": {
      "text/plain": [
       "deque([2, 3])"
      ]
     },
     "execution_count": 15,
     "metadata": {},
     "output_type": "execute_result"
    }
   ],
   "source": [
    "a"
   ]
  },
  {
   "cell_type": "code",
   "execution_count": 27,
   "metadata": {},
   "outputs": [
    {
     "data": {
      "text/plain": [
       "[1, 4, 3, 2]"
      ]
     },
     "execution_count": 27,
     "metadata": {},
     "output_type": "execute_result"
    }
   ],
   "source": [
    "bst.dfs_post_order()"
   ]
  },
  {
   "cell_type": "code",
   "execution_count": null,
   "metadata": {},
   "outputs": [],
   "source": []
  }
 ],
 "metadata": {
  "kernelspec": {
   "display_name": "Python 3",
   "language": "python",
   "name": "python3"
  },
  "language_info": {
   "codemirror_mode": {
    "name": "ipython",
    "version": 3
   },
   "file_extension": ".py",
   "mimetype": "text/x-python",
   "name": "python",
   "nbconvert_exporter": "python",
   "pygments_lexer": "ipython3",
   "version": "3.10.4"
  },
  "orig_nbformat": 4
 },
 "nbformat": 4,
 "nbformat_minor": 2
}
