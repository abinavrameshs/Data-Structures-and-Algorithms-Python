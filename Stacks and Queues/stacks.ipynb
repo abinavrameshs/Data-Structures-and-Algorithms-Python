{
 "cells": [
  {
   "cell_type": "code",
   "execution_count": 7,
   "metadata": {},
   "outputs": [],
   "source": [
    "class Node(object):\n",
    "    def __init__(self, value) -> None:\n",
    "        self.value = value \n",
    "        self.next = None \n",
    "\n",
    "\n",
    "class Stack(object) : \n",
    "    def __init__(self, value) -> None:\n",
    "        new_node = Node(value)\n",
    "        self.height = 1\n",
    "        self.top = new_node \n",
    "    \n",
    "    def push(self, value): \n",
    "        new_node = Node(value)\n",
    "        # If there are no elements \n",
    "        if self.top is None : \n",
    "            self.top = new_node \n",
    "        else : \n",
    "            \n",
    "            new_node.next = self.top \n",
    "            self.top = new_node \n",
    "        self.height+=1\n",
    "        return True\n",
    "\n",
    "    def print_stack(self):\n",
    "        temp = self.top \n",
    "        while temp : \n",
    "            print(temp.value)\n",
    "            temp = temp.next \n",
    "        \n",
    "    def pop(self):\n",
    "        if self.top is None : \n",
    "            return_node = None \n",
    "        else : \n",
    "            temp = self.top \n",
    "            self.top = self.top.next \n",
    "            temp.next = None \n",
    "            self.height-=1\n",
    "            return_node = temp \n",
    "        return return_node\n",
    "        \n",
    "\n"
   ]
  },
  {
   "cell_type": "code",
   "execution_count": 8,
   "metadata": {},
   "outputs": [
    {
     "name": "stdout",
     "output_type": "stream",
     "text": [
      "----------------------\n",
      "140\n",
      "120\n",
      "10\n",
      "5\n",
      "----------------------\n",
      "120\n",
      "10\n",
      "5\n"
     ]
    }
   ],
   "source": [
    "a = Stack(5)\n",
    "a.push(10)\n",
    "a.push(120)\n",
    "a.push(140)\n",
    "\n",
    "print(\"----------------------\")\n",
    "a.print_stack()\n",
    "popped = a.pop()\n",
    "print(\"----------------------\")\n",
    "a.print_stack()"
   ]
  },
  {
   "cell_type": "code",
   "execution_count": null,
   "metadata": {},
   "outputs": [],
   "source": []
  }
 ],
 "metadata": {
  "kernelspec": {
   "display_name": "Python 3.10.4 64-bit",
   "language": "python",
   "name": "python3"
  },
  "language_info": {
   "codemirror_mode": {
    "name": "ipython",
    "version": 3
   },
   "file_extension": ".py",
   "mimetype": "text/x-python",
   "name": "python",
   "nbconvert_exporter": "python",
   "pygments_lexer": "ipython3",
   "version": "3.10.4"
  },
  "orig_nbformat": 4,
  "vscode": {
   "interpreter": {
    "hash": "3ad933181bd8a04b432d3370b9dc3b0662ad032c4dfaa4e4f1596c548f763858"
   }
  }
 },
 "nbformat": 4,
 "nbformat_minor": 2
}
