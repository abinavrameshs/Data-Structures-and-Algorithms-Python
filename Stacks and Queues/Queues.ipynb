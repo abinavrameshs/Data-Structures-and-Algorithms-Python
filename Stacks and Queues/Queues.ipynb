{
 "cells": [
  {
   "cell_type": "code",
   "execution_count": 19,
   "metadata": {},
   "outputs": [],
   "source": [
    "class Node(object):\n",
    "    def __init__(self, value) -> None:\n",
    "        self.value = value \n",
    "        self.next = None \n",
    "\n",
    "\n",
    "class Queue(object): \n",
    "    def __init__(self, value) -> None:\n",
    "        new_node = Node(value)\n",
    "        self.first = new_node \n",
    "        self.last = new_node \n",
    "        self.length=1\n",
    "\n",
    "    def print_queue(self): \n",
    "        print(\"Printing elements in the Queue\")\n",
    "        temp = self.first \n",
    "        while temp is not None :\n",
    "            print(temp.value)\n",
    "            temp = temp.next \n",
    "\n",
    "    def enqueue(self, value): \n",
    "        \"\"\"\n",
    "        Enqueue : Adding elements in a queue. \n",
    "        We have to add at the end of the linked list (At the last pointer) \n",
    "        \"\"\"\n",
    "\n",
    "        new_node = Node(value)\n",
    "\n",
    "        ## What if the queue is blank to begin with \n",
    "        if self.first is None : \n",
    "            self.first  = self.last = new_node\n",
    "        else : \n",
    "            ## What if the queue is not blank to begin with \n",
    "            self.last.next = new_node \n",
    "            self.last = new_node \n",
    "            \n",
    "        self.length+=1\n",
    "\n",
    "    def dequeue(self): \n",
    "        \"\"\"\n",
    "        Dequeue : Removing elements in a queue. \n",
    "        We have to remove from the beginning of the linked list (From the first pointer of the LL)\n",
    "        \"\"\"\n",
    "    \n",
    "        ## What if the queue is blank to begin with \n",
    "        if self.first is None : \n",
    "            return_node =  None \n",
    "\n",
    "        ## What if the queue has only 1 element\n",
    "        elif self.length==1 : \n",
    "            return_node =  self.first \n",
    "            self.first = self.last = None\n",
    "            self.length-=1\n",
    "\n",
    "        ## What if the queue is not blank to begin with \n",
    "        else : \n",
    "            return_node = self.first \n",
    "            self.first  = self.first.next \n",
    "            return_node.next = None \n",
    "            self.length-=1\n",
    "\n",
    "        return return_node\n"
   ]
  },
  {
   "cell_type": "code",
   "execution_count": 17,
   "metadata": {},
   "outputs": [
    {
     "name": "stdout",
     "output_type": "stream",
     "text": [
      "Printing elements in the Queue\n",
      "4\n",
      "Printing elements in the Queue\n",
      "4\n",
      "10\n",
      "15\n",
      "Printing elements in the Queue\n",
      "10\n",
      "15\n",
      "Printing elements in the Queue\n",
      "15\n"
     ]
    }
   ],
   "source": [
    "a = Queue(4)\n",
    "a.print_queue()\n",
    "\n",
    "a.enqueue(10)\n",
    "a.enqueue(15)\n",
    "a.print_queue()\n",
    "\n",
    "a.dequeue()\n",
    "a.print_queue()\n",
    "\n",
    "a.dequeue()\n",
    "a.print_queue()"
   ]
  }
 ],
 "metadata": {
  "kernelspec": {
   "display_name": "Python 3",
   "language": "python",
   "name": "python3"
  },
  "language_info": {
   "codemirror_mode": {
    "name": "ipython",
    "version": 3
   },
   "file_extension": ".py",
   "mimetype": "text/x-python",
   "name": "python",
   "nbconvert_exporter": "python",
   "pygments_lexer": "ipython3",
   "version": "3.10.4"
  },
  "orig_nbformat": 4,
  "vscode": {
   "interpreter": {
    "hash": "3ad933181bd8a04b432d3370b9dc3b0662ad032c4dfaa4e4f1596c548f763858"
   }
  }
 },
 "nbformat": 4,
 "nbformat_minor": 2
}
